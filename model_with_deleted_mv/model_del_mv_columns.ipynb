{
 "cells": [
  {
   "cell_type": "markdown",
   "metadata": {},
   "source": [
    "# Model Building and Evaluation For Dataset where Columns with Missing Values were Deleted"
   ]
  },
  {
   "cell_type": "markdown",
   "metadata": {},
   "source": [
    "## Importing the Necessary Libraries and Loading the Dataset"
   ]
  },
  {
   "cell_type": "code",
   "execution_count": 56,
   "metadata": {},
   "outputs": [],
   "source": [
    "# import libraries\n",
    "import numpy as np\n",
    "import pandas as pd\n",
    "from matplotlib import pyplot as plt\n",
    "import seaborn as sns\n",
    "from sklearn.model_selection import train_test_split\n",
    "# %matplotlib inline"
   ]
  },
  {
   "cell_type": "code",
   "execution_count": 57,
   "metadata": {},
   "outputs": [
    {
     "data": {
      "text/html": [
       "<div>\n",
       "<style scoped>\n",
       "    .dataframe tbody tr th:only-of-type {\n",
       "        vertical-align: middle;\n",
       "    }\n",
       "\n",
       "    .dataframe tbody tr th {\n",
       "        vertical-align: top;\n",
       "    }\n",
       "\n",
       "    .dataframe thead th {\n",
       "        text-align: right;\n",
       "    }\n",
       "</style>\n",
       "<table border=\"1\" class=\"dataframe\">\n",
       "  <thead>\n",
       "    <tr style=\"text-align: right;\">\n",
       "      <th></th>\n",
       "      <th>nox</th>\n",
       "      <th>rm</th>\n",
       "      <th>dis</th>\n",
       "      <th>tax</th>\n",
       "      <th>ptratio</th>\n",
       "      <th>b</th>\n",
       "      <th>medv</th>\n",
       "    </tr>\n",
       "  </thead>\n",
       "  <tbody>\n",
       "    <tr>\n",
       "      <th>0</th>\n",
       "      <td>0.538</td>\n",
       "      <td>6.575</td>\n",
       "      <td>4.0900</td>\n",
       "      <td>296</td>\n",
       "      <td>15.3</td>\n",
       "      <td>396.90</td>\n",
       "      <td>24.0</td>\n",
       "    </tr>\n",
       "    <tr>\n",
       "      <th>1</th>\n",
       "      <td>0.469</td>\n",
       "      <td>6.421</td>\n",
       "      <td>4.9671</td>\n",
       "      <td>242</td>\n",
       "      <td>17.8</td>\n",
       "      <td>396.90</td>\n",
       "      <td>21.6</td>\n",
       "    </tr>\n",
       "    <tr>\n",
       "      <th>2</th>\n",
       "      <td>0.469</td>\n",
       "      <td>7.185</td>\n",
       "      <td>4.9671</td>\n",
       "      <td>242</td>\n",
       "      <td>17.8</td>\n",
       "      <td>392.83</td>\n",
       "      <td>34.7</td>\n",
       "    </tr>\n",
       "    <tr>\n",
       "      <th>3</th>\n",
       "      <td>0.458</td>\n",
       "      <td>6.998</td>\n",
       "      <td>6.0622</td>\n",
       "      <td>222</td>\n",
       "      <td>18.7</td>\n",
       "      <td>394.63</td>\n",
       "      <td>33.4</td>\n",
       "    </tr>\n",
       "    <tr>\n",
       "      <th>4</th>\n",
       "      <td>0.458</td>\n",
       "      <td>7.147</td>\n",
       "      <td>6.0622</td>\n",
       "      <td>222</td>\n",
       "      <td>18.7</td>\n",
       "      <td>396.90</td>\n",
       "      <td>36.2</td>\n",
       "    </tr>\n",
       "    <tr>\n",
       "      <th>...</th>\n",
       "      <td>...</td>\n",
       "      <td>...</td>\n",
       "      <td>...</td>\n",
       "      <td>...</td>\n",
       "      <td>...</td>\n",
       "      <td>...</td>\n",
       "      <td>...</td>\n",
       "    </tr>\n",
       "    <tr>\n",
       "      <th>501</th>\n",
       "      <td>0.573</td>\n",
       "      <td>6.593</td>\n",
       "      <td>2.4786</td>\n",
       "      <td>273</td>\n",
       "      <td>21.0</td>\n",
       "      <td>391.99</td>\n",
       "      <td>22.4</td>\n",
       "    </tr>\n",
       "    <tr>\n",
       "      <th>502</th>\n",
       "      <td>0.573</td>\n",
       "      <td>6.120</td>\n",
       "      <td>2.2875</td>\n",
       "      <td>273</td>\n",
       "      <td>21.0</td>\n",
       "      <td>396.90</td>\n",
       "      <td>20.6</td>\n",
       "    </tr>\n",
       "    <tr>\n",
       "      <th>503</th>\n",
       "      <td>0.573</td>\n",
       "      <td>6.976</td>\n",
       "      <td>2.1675</td>\n",
       "      <td>273</td>\n",
       "      <td>21.0</td>\n",
       "      <td>396.90</td>\n",
       "      <td>23.9</td>\n",
       "    </tr>\n",
       "    <tr>\n",
       "      <th>504</th>\n",
       "      <td>0.573</td>\n",
       "      <td>6.794</td>\n",
       "      <td>2.3889</td>\n",
       "      <td>273</td>\n",
       "      <td>21.0</td>\n",
       "      <td>393.45</td>\n",
       "      <td>22.0</td>\n",
       "    </tr>\n",
       "    <tr>\n",
       "      <th>505</th>\n",
       "      <td>0.573</td>\n",
       "      <td>6.030</td>\n",
       "      <td>2.5050</td>\n",
       "      <td>273</td>\n",
       "      <td>21.0</td>\n",
       "      <td>396.90</td>\n",
       "      <td>11.9</td>\n",
       "    </tr>\n",
       "  </tbody>\n",
       "</table>\n",
       "<p>506 rows × 7 columns</p>\n",
       "</div>"
      ],
      "text/plain": [
       "       nox     rm     dis  tax  ptratio       b  medv\n",
       "0    0.538  6.575  4.0900  296     15.3  396.90  24.0\n",
       "1    0.469  6.421  4.9671  242     17.8  396.90  21.6\n",
       "2    0.469  7.185  4.9671  242     17.8  392.83  34.7\n",
       "3    0.458  6.998  6.0622  222     18.7  394.63  33.4\n",
       "4    0.458  7.147  6.0622  222     18.7  396.90  36.2\n",
       "..     ...    ...     ...  ...      ...     ...   ...\n",
       "501  0.573  6.593  2.4786  273     21.0  391.99  22.4\n",
       "502  0.573  6.120  2.2875  273     21.0  396.90  20.6\n",
       "503  0.573  6.976  2.1675  273     21.0  396.90  23.9\n",
       "504  0.573  6.794  2.3889  273     21.0  393.45  22.0\n",
       "505  0.573  6.030  2.5050  273     21.0  396.90  11.9\n",
       "\n",
       "[506 rows x 7 columns]"
      ]
     },
     "execution_count": 57,
     "metadata": {},
     "output_type": "execute_result"
    }
   ],
   "source": [
    "# load preprocessed dataset\n",
    "df = pd.read_csv('./deleted_mv_dataset_columns.csv')\n",
    "df"
   ]
  },
  {
   "cell_type": "markdown",
   "metadata": {},
   "source": [
    "## Getting the Variables and Spliting the Data\n",
    "\n",
    "Here, we get the independent(X) and dependent(y) features/variables for the 2 split dataset - `train` and `test`. Test size will be set to 30% while 70% will be for the train. 'random state' is added to make the split reproducible irrespective of the hardware it is run on.\n",
    "\n",
    "Before we get the variables, we want to reset the index. We don't have to but it's nicer to do."
   ]
  },
  {
   "cell_type": "code",
   "execution_count": 58,
   "metadata": {},
   "outputs": [],
   "source": [
    "# split the dataset\n",
    "# test size:- 20%\n",
    "# train size:- 80%\n",
    "\n",
    "# np.random.seed(0)\n",
    "df_train, df_test = train_test_split(df, test_size=0.3, random_state=1)"
   ]
  },
  {
   "cell_type": "code",
   "execution_count": 60,
   "metadata": {},
   "outputs": [
    {
     "data": {
      "text/plain": [
       "(354, 152, 506)"
      ]
     },
     "execution_count": 60,
     "metadata": {},
     "output_type": "execute_result"
    }
   ],
   "source": [
    "len(df_train), len(df_test), len(df_train) + len(df_test)"
   ]
  },
  {
   "cell_type": "markdown",
   "metadata": {},
   "source": [
    "#### Train Dataset"
   ]
  },
  {
   "cell_type": "code",
   "execution_count": 64,
   "metadata": {},
   "outputs": [
    {
     "data": {
      "text/html": [
       "<div>\n",
       "<style scoped>\n",
       "    .dataframe tbody tr th:only-of-type {\n",
       "        vertical-align: middle;\n",
       "    }\n",
       "\n",
       "    .dataframe tbody tr th {\n",
       "        vertical-align: top;\n",
       "    }\n",
       "\n",
       "    .dataframe thead th {\n",
       "        text-align: right;\n",
       "    }\n",
       "</style>\n",
       "<table border=\"1\" class=\"dataframe\">\n",
       "  <thead>\n",
       "    <tr style=\"text-align: right;\">\n",
       "      <th></th>\n",
       "      <th>nox</th>\n",
       "      <th>rm</th>\n",
       "      <th>dis</th>\n",
       "      <th>tax</th>\n",
       "      <th>ptratio</th>\n",
       "      <th>b</th>\n",
       "      <th>medv</th>\n",
       "    </tr>\n",
       "  </thead>\n",
       "  <tbody>\n",
       "    <tr>\n",
       "      <th>0</th>\n",
       "      <td>0.538</td>\n",
       "      <td>5.949</td>\n",
       "      <td>4.7075</td>\n",
       "      <td>307</td>\n",
       "      <td>21.0</td>\n",
       "      <td>396.90</td>\n",
       "      <td>20.4</td>\n",
       "    </tr>\n",
       "    <tr>\n",
       "      <th>1</th>\n",
       "      <td>0.453</td>\n",
       "      <td>5.966</td>\n",
       "      <td>6.8185</td>\n",
       "      <td>284</td>\n",
       "      <td>19.7</td>\n",
       "      <td>378.08</td>\n",
       "      <td>16.0</td>\n",
       "    </tr>\n",
       "    <tr>\n",
       "      <th>2</th>\n",
       "      <td>0.671</td>\n",
       "      <td>6.794</td>\n",
       "      <td>1.3580</td>\n",
       "      <td>666</td>\n",
       "      <td>20.2</td>\n",
       "      <td>396.90</td>\n",
       "      <td>13.3</td>\n",
       "    </tr>\n",
       "    <tr>\n",
       "      <th>3</th>\n",
       "      <td>0.428</td>\n",
       "      <td>6.595</td>\n",
       "      <td>5.4011</td>\n",
       "      <td>252</td>\n",
       "      <td>18.3</td>\n",
       "      <td>395.63</td>\n",
       "      <td>30.8</td>\n",
       "    </tr>\n",
       "    <tr>\n",
       "      <th>4</th>\n",
       "      <td>0.718</td>\n",
       "      <td>3.561</td>\n",
       "      <td>1.6132</td>\n",
       "      <td>666</td>\n",
       "      <td>20.2</td>\n",
       "      <td>354.70</td>\n",
       "      <td>27.5</td>\n",
       "    </tr>\n",
       "    <tr>\n",
       "      <th>...</th>\n",
       "      <td>...</td>\n",
       "      <td>...</td>\n",
       "      <td>...</td>\n",
       "      <td>...</td>\n",
       "      <td>...</td>\n",
       "      <td>...</td>\n",
       "      <td>...</td>\n",
       "    </tr>\n",
       "    <tr>\n",
       "      <th>349</th>\n",
       "      <td>0.392</td>\n",
       "      <td>5.876</td>\n",
       "      <td>9.2203</td>\n",
       "      <td>315</td>\n",
       "      <td>16.4</td>\n",
       "      <td>395.18</td>\n",
       "      <td>20.9</td>\n",
       "    </tr>\n",
       "    <tr>\n",
       "      <th>350</th>\n",
       "      <td>0.413</td>\n",
       "      <td>6.065</td>\n",
       "      <td>5.2873</td>\n",
       "      <td>305</td>\n",
       "      <td>19.2</td>\n",
       "      <td>390.91</td>\n",
       "      <td>22.8</td>\n",
       "    </tr>\n",
       "    <tr>\n",
       "      <th>351</th>\n",
       "      <td>0.693</td>\n",
       "      <td>6.405</td>\n",
       "      <td>1.6768</td>\n",
       "      <td>666</td>\n",
       "      <td>20.2</td>\n",
       "      <td>396.90</td>\n",
       "      <td>12.5</td>\n",
       "    </tr>\n",
       "    <tr>\n",
       "      <th>352</th>\n",
       "      <td>0.507</td>\n",
       "      <td>6.086</td>\n",
       "      <td>3.6519</td>\n",
       "      <td>307</td>\n",
       "      <td>17.4</td>\n",
       "      <td>376.75</td>\n",
       "      <td>24.0</td>\n",
       "    </tr>\n",
       "    <tr>\n",
       "      <th>353</th>\n",
       "      <td>0.499</td>\n",
       "      <td>5.850</td>\n",
       "      <td>3.9342</td>\n",
       "      <td>279</td>\n",
       "      <td>19.2</td>\n",
       "      <td>396.90</td>\n",
       "      <td>21.0</td>\n",
       "    </tr>\n",
       "  </tbody>\n",
       "</table>\n",
       "<p>354 rows × 7 columns</p>\n",
       "</div>"
      ],
      "text/plain": [
       "       nox     rm     dis  tax  ptratio       b  medv\n",
       "0    0.538  5.949  4.7075  307     21.0  396.90  20.4\n",
       "1    0.453  5.966  6.8185  284     19.7  378.08  16.0\n",
       "2    0.671  6.794  1.3580  666     20.2  396.90  13.3\n",
       "3    0.428  6.595  5.4011  252     18.3  395.63  30.8\n",
       "4    0.718  3.561  1.6132  666     20.2  354.70  27.5\n",
       "..     ...    ...     ...  ...      ...     ...   ...\n",
       "349  0.392  5.876  9.2203  315     16.4  395.18  20.9\n",
       "350  0.413  6.065  5.2873  305     19.2  390.91  22.8\n",
       "351  0.693  6.405  1.6768  666     20.2  396.90  12.5\n",
       "352  0.507  6.086  3.6519  307     17.4  376.75  24.0\n",
       "353  0.499  5.850  3.9342  279     19.2  396.90  21.0\n",
       "\n",
       "[354 rows x 7 columns]"
      ]
     },
     "execution_count": 64,
     "metadata": {},
     "output_type": "execute_result"
    }
   ],
   "source": [
    "# reset index for df_train because it was shuffled on split\n",
    "df_train = df_train.reset_index(drop=True)\n",
    "df_train"
   ]
  },
  {
   "cell_type": "code",
   "execution_count": 65,
   "metadata": {},
   "outputs": [
    {
     "data": {
      "text/html": [
       "<div>\n",
       "<style scoped>\n",
       "    .dataframe tbody tr th:only-of-type {\n",
       "        vertical-align: middle;\n",
       "    }\n",
       "\n",
       "    .dataframe tbody tr th {\n",
       "        vertical-align: top;\n",
       "    }\n",
       "\n",
       "    .dataframe thead th {\n",
       "        text-align: right;\n",
       "    }\n",
       "</style>\n",
       "<table border=\"1\" class=\"dataframe\">\n",
       "  <thead>\n",
       "    <tr style=\"text-align: right;\">\n",
       "      <th></th>\n",
       "      <th>nox</th>\n",
       "      <th>rm</th>\n",
       "      <th>dis</th>\n",
       "      <th>tax</th>\n",
       "      <th>ptratio</th>\n",
       "      <th>b</th>\n",
       "    </tr>\n",
       "  </thead>\n",
       "  <tbody>\n",
       "    <tr>\n",
       "      <th>0</th>\n",
       "      <td>0.538</td>\n",
       "      <td>5.949</td>\n",
       "      <td>4.7075</td>\n",
       "      <td>307</td>\n",
       "      <td>21.0</td>\n",
       "      <td>396.90</td>\n",
       "    </tr>\n",
       "    <tr>\n",
       "      <th>1</th>\n",
       "      <td>0.453</td>\n",
       "      <td>5.966</td>\n",
       "      <td>6.8185</td>\n",
       "      <td>284</td>\n",
       "      <td>19.7</td>\n",
       "      <td>378.08</td>\n",
       "    </tr>\n",
       "    <tr>\n",
       "      <th>2</th>\n",
       "      <td>0.671</td>\n",
       "      <td>6.794</td>\n",
       "      <td>1.3580</td>\n",
       "      <td>666</td>\n",
       "      <td>20.2</td>\n",
       "      <td>396.90</td>\n",
       "    </tr>\n",
       "    <tr>\n",
       "      <th>3</th>\n",
       "      <td>0.428</td>\n",
       "      <td>6.595</td>\n",
       "      <td>5.4011</td>\n",
       "      <td>252</td>\n",
       "      <td>18.3</td>\n",
       "      <td>395.63</td>\n",
       "    </tr>\n",
       "    <tr>\n",
       "      <th>4</th>\n",
       "      <td>0.718</td>\n",
       "      <td>3.561</td>\n",
       "      <td>1.6132</td>\n",
       "      <td>666</td>\n",
       "      <td>20.2</td>\n",
       "      <td>354.70</td>\n",
       "    </tr>\n",
       "    <tr>\n",
       "      <th>...</th>\n",
       "      <td>...</td>\n",
       "      <td>...</td>\n",
       "      <td>...</td>\n",
       "      <td>...</td>\n",
       "      <td>...</td>\n",
       "      <td>...</td>\n",
       "    </tr>\n",
       "    <tr>\n",
       "      <th>349</th>\n",
       "      <td>0.392</td>\n",
       "      <td>5.876</td>\n",
       "      <td>9.2203</td>\n",
       "      <td>315</td>\n",
       "      <td>16.4</td>\n",
       "      <td>395.18</td>\n",
       "    </tr>\n",
       "    <tr>\n",
       "      <th>350</th>\n",
       "      <td>0.413</td>\n",
       "      <td>6.065</td>\n",
       "      <td>5.2873</td>\n",
       "      <td>305</td>\n",
       "      <td>19.2</td>\n",
       "      <td>390.91</td>\n",
       "    </tr>\n",
       "    <tr>\n",
       "      <th>351</th>\n",
       "      <td>0.693</td>\n",
       "      <td>6.405</td>\n",
       "      <td>1.6768</td>\n",
       "      <td>666</td>\n",
       "      <td>20.2</td>\n",
       "      <td>396.90</td>\n",
       "    </tr>\n",
       "    <tr>\n",
       "      <th>352</th>\n",
       "      <td>0.507</td>\n",
       "      <td>6.086</td>\n",
       "      <td>3.6519</td>\n",
       "      <td>307</td>\n",
       "      <td>17.4</td>\n",
       "      <td>376.75</td>\n",
       "    </tr>\n",
       "    <tr>\n",
       "      <th>353</th>\n",
       "      <td>0.499</td>\n",
       "      <td>5.850</td>\n",
       "      <td>3.9342</td>\n",
       "      <td>279</td>\n",
       "      <td>19.2</td>\n",
       "      <td>396.90</td>\n",
       "    </tr>\n",
       "  </tbody>\n",
       "</table>\n",
       "<p>354 rows × 6 columns</p>\n",
       "</div>"
      ],
      "text/plain": [
       "       nox     rm     dis  tax  ptratio       b\n",
       "0    0.538  5.949  4.7075  307     21.0  396.90\n",
       "1    0.453  5.966  6.8185  284     19.7  378.08\n",
       "2    0.671  6.794  1.3580  666     20.2  396.90\n",
       "3    0.428  6.595  5.4011  252     18.3  395.63\n",
       "4    0.718  3.561  1.6132  666     20.2  354.70\n",
       "..     ...    ...     ...  ...      ...     ...\n",
       "349  0.392  5.876  9.2203  315     16.4  395.18\n",
       "350  0.413  6.065  5.2873  305     19.2  390.91\n",
       "351  0.693  6.405  1.6768  666     20.2  396.90\n",
       "352  0.507  6.086  3.6519  307     17.4  376.75\n",
       "353  0.499  5.850  3.9342  279     19.2  396.90\n",
       "\n",
       "[354 rows x 6 columns]"
      ]
     },
     "execution_count": 65,
     "metadata": {},
     "output_type": "execute_result"
    }
   ],
   "source": [
    "# get the independent(X) variable for the train dataset\n",
    "X_train = df_train.iloc[:, :-1]\n",
    "X_train"
   ]
  },
  {
   "cell_type": "code",
   "execution_count": 66,
   "metadata": {},
   "outputs": [
    {
     "data": {
      "text/plain": [
       "0      20.4\n",
       "1      16.0\n",
       "2      13.3\n",
       "3      30.8\n",
       "4      27.5\n",
       "       ... \n",
       "349    20.9\n",
       "350    22.8\n",
       "351    12.5\n",
       "352    24.0\n",
       "353    21.0\n",
       "Name: medv, Length: 354, dtype: float64"
      ]
     },
     "execution_count": 66,
     "metadata": {},
     "output_type": "execute_result"
    }
   ],
   "source": [
    "# getting the dependent(y) variable for train dataset\n",
    "\n",
    "y_train = df_train.iloc[:, -1]\n",
    "y_train"
   ]
  },
  {
   "cell_type": "markdown",
   "metadata": {},
   "source": [
    "#### Test Dataset"
   ]
  },
  {
   "cell_type": "code",
   "execution_count": 67,
   "metadata": {},
   "outputs": [
    {
     "data": {
      "text/html": [
       "<div>\n",
       "<style scoped>\n",
       "    .dataframe tbody tr th:only-of-type {\n",
       "        vertical-align: middle;\n",
       "    }\n",
       "\n",
       "    .dataframe tbody tr th {\n",
       "        vertical-align: top;\n",
       "    }\n",
       "\n",
       "    .dataframe thead th {\n",
       "        text-align: right;\n",
       "    }\n",
       "</style>\n",
       "<table border=\"1\" class=\"dataframe\">\n",
       "  <thead>\n",
       "    <tr style=\"text-align: right;\">\n",
       "      <th></th>\n",
       "      <th>nox</th>\n",
       "      <th>rm</th>\n",
       "      <th>dis</th>\n",
       "      <th>tax</th>\n",
       "      <th>ptratio</th>\n",
       "      <th>b</th>\n",
       "      <th>medv</th>\n",
       "    </tr>\n",
       "  </thead>\n",
       "  <tbody>\n",
       "    <tr>\n",
       "      <th>0</th>\n",
       "      <td>0.472</td>\n",
       "      <td>6.849</td>\n",
       "      <td>3.1827</td>\n",
       "      <td>222</td>\n",
       "      <td>18.4</td>\n",
       "      <td>396.90</td>\n",
       "      <td>28.2</td>\n",
       "    </tr>\n",
       "    <tr>\n",
       "      <th>1</th>\n",
       "      <td>0.484</td>\n",
       "      <td>6.696</td>\n",
       "      <td>5.7321</td>\n",
       "      <td>370</td>\n",
       "      <td>17.6</td>\n",
       "      <td>396.90</td>\n",
       "      <td>23.9</td>\n",
       "    </tr>\n",
       "    <tr>\n",
       "      <th>2</th>\n",
       "      <td>0.448</td>\n",
       "      <td>6.030</td>\n",
       "      <td>5.6894</td>\n",
       "      <td>233</td>\n",
       "      <td>17.9</td>\n",
       "      <td>392.74</td>\n",
       "      <td>16.6</td>\n",
       "    </tr>\n",
       "    <tr>\n",
       "      <th>3</th>\n",
       "      <td>0.409</td>\n",
       "      <td>5.878</td>\n",
       "      <td>6.4980</td>\n",
       "      <td>345</td>\n",
       "      <td>18.9</td>\n",
       "      <td>396.21</td>\n",
       "      <td>22.0</td>\n",
       "    </tr>\n",
       "    <tr>\n",
       "      <th>4</th>\n",
       "      <td>0.770</td>\n",
       "      <td>5.362</td>\n",
       "      <td>2.1036</td>\n",
       "      <td>666</td>\n",
       "      <td>20.2</td>\n",
       "      <td>380.79</td>\n",
       "      <td>20.8</td>\n",
       "    </tr>\n",
       "    <tr>\n",
       "      <th>...</th>\n",
       "      <td>...</td>\n",
       "      <td>...</td>\n",
       "      <td>...</td>\n",
       "      <td>...</td>\n",
       "      <td>...</td>\n",
       "      <td>...</td>\n",
       "      <td>...</td>\n",
       "    </tr>\n",
       "    <tr>\n",
       "      <th>147</th>\n",
       "      <td>0.584</td>\n",
       "      <td>6.003</td>\n",
       "      <td>2.5403</td>\n",
       "      <td>666</td>\n",
       "      <td>20.2</td>\n",
       "      <td>331.29</td>\n",
       "      <td>19.1</td>\n",
       "    </tr>\n",
       "    <tr>\n",
       "      <th>148</th>\n",
       "      <td>0.445</td>\n",
       "      <td>6.625</td>\n",
       "      <td>3.4952</td>\n",
       "      <td>276</td>\n",
       "      <td>18.0</td>\n",
       "      <td>357.98</td>\n",
       "      <td>28.4</td>\n",
       "    </tr>\n",
       "    <tr>\n",
       "      <th>149</th>\n",
       "      <td>0.581</td>\n",
       "      <td>5.961</td>\n",
       "      <td>2.0869</td>\n",
       "      <td>188</td>\n",
       "      <td>19.1</td>\n",
       "      <td>378.09</td>\n",
       "      <td>20.5</td>\n",
       "    </tr>\n",
       "    <tr>\n",
       "      <th>150</th>\n",
       "      <td>0.647</td>\n",
       "      <td>7.203</td>\n",
       "      <td>2.1121</td>\n",
       "      <td>264</td>\n",
       "      <td>13.0</td>\n",
       "      <td>392.80</td>\n",
       "      <td>33.8</td>\n",
       "    </tr>\n",
       "    <tr>\n",
       "      <th>151</th>\n",
       "      <td>0.538</td>\n",
       "      <td>5.813</td>\n",
       "      <td>4.0952</td>\n",
       "      <td>307</td>\n",
       "      <td>21.0</td>\n",
       "      <td>394.54</td>\n",
       "      <td>14.5</td>\n",
       "    </tr>\n",
       "  </tbody>\n",
       "</table>\n",
       "<p>152 rows × 7 columns</p>\n",
       "</div>"
      ],
      "text/plain": [
       "       nox     rm     dis  tax  ptratio       b  medv\n",
       "0    0.472  6.849  3.1827  222     18.4  396.90  28.2\n",
       "1    0.484  6.696  5.7321  370     17.6  396.90  23.9\n",
       "2    0.448  6.030  5.6894  233     17.9  392.74  16.6\n",
       "3    0.409  5.878  6.4980  345     18.9  396.21  22.0\n",
       "4    0.770  5.362  2.1036  666     20.2  380.79  20.8\n",
       "..     ...    ...     ...  ...      ...     ...   ...\n",
       "147  0.584  6.003  2.5403  666     20.2  331.29  19.1\n",
       "148  0.445  6.625  3.4952  276     18.0  357.98  28.4\n",
       "149  0.581  5.961  2.0869  188     19.1  378.09  20.5\n",
       "150  0.647  7.203  2.1121  264     13.0  392.80  33.8\n",
       "151  0.538  5.813  4.0952  307     21.0  394.54  14.5\n",
       "\n",
       "[152 rows x 7 columns]"
      ]
     },
     "execution_count": 67,
     "metadata": {},
     "output_type": "execute_result"
    }
   ],
   "source": [
    "# reset index because it was shuffled on split\n",
    "df_test = df_test.reset_index(drop=True)\n",
    "df_test"
   ]
  },
  {
   "cell_type": "code",
   "execution_count": 68,
   "metadata": {},
   "outputs": [
    {
     "data": {
      "text/html": [
       "<div>\n",
       "<style scoped>\n",
       "    .dataframe tbody tr th:only-of-type {\n",
       "        vertical-align: middle;\n",
       "    }\n",
       "\n",
       "    .dataframe tbody tr th {\n",
       "        vertical-align: top;\n",
       "    }\n",
       "\n",
       "    .dataframe thead th {\n",
       "        text-align: right;\n",
       "    }\n",
       "</style>\n",
       "<table border=\"1\" class=\"dataframe\">\n",
       "  <thead>\n",
       "    <tr style=\"text-align: right;\">\n",
       "      <th></th>\n",
       "      <th>nox</th>\n",
       "      <th>rm</th>\n",
       "      <th>dis</th>\n",
       "      <th>tax</th>\n",
       "      <th>ptratio</th>\n",
       "      <th>b</th>\n",
       "    </tr>\n",
       "  </thead>\n",
       "  <tbody>\n",
       "    <tr>\n",
       "      <th>0</th>\n",
       "      <td>0.472</td>\n",
       "      <td>6.849</td>\n",
       "      <td>3.1827</td>\n",
       "      <td>222</td>\n",
       "      <td>18.4</td>\n",
       "      <td>396.90</td>\n",
       "    </tr>\n",
       "    <tr>\n",
       "      <th>1</th>\n",
       "      <td>0.484</td>\n",
       "      <td>6.696</td>\n",
       "      <td>5.7321</td>\n",
       "      <td>370</td>\n",
       "      <td>17.6</td>\n",
       "      <td>396.90</td>\n",
       "    </tr>\n",
       "    <tr>\n",
       "      <th>2</th>\n",
       "      <td>0.448</td>\n",
       "      <td>6.030</td>\n",
       "      <td>5.6894</td>\n",
       "      <td>233</td>\n",
       "      <td>17.9</td>\n",
       "      <td>392.74</td>\n",
       "    </tr>\n",
       "    <tr>\n",
       "      <th>3</th>\n",
       "      <td>0.409</td>\n",
       "      <td>5.878</td>\n",
       "      <td>6.4980</td>\n",
       "      <td>345</td>\n",
       "      <td>18.9</td>\n",
       "      <td>396.21</td>\n",
       "    </tr>\n",
       "    <tr>\n",
       "      <th>4</th>\n",
       "      <td>0.770</td>\n",
       "      <td>5.362</td>\n",
       "      <td>2.1036</td>\n",
       "      <td>666</td>\n",
       "      <td>20.2</td>\n",
       "      <td>380.79</td>\n",
       "    </tr>\n",
       "    <tr>\n",
       "      <th>...</th>\n",
       "      <td>...</td>\n",
       "      <td>...</td>\n",
       "      <td>...</td>\n",
       "      <td>...</td>\n",
       "      <td>...</td>\n",
       "      <td>...</td>\n",
       "    </tr>\n",
       "    <tr>\n",
       "      <th>147</th>\n",
       "      <td>0.584</td>\n",
       "      <td>6.003</td>\n",
       "      <td>2.5403</td>\n",
       "      <td>666</td>\n",
       "      <td>20.2</td>\n",
       "      <td>331.29</td>\n",
       "    </tr>\n",
       "    <tr>\n",
       "      <th>148</th>\n",
       "      <td>0.445</td>\n",
       "      <td>6.625</td>\n",
       "      <td>3.4952</td>\n",
       "      <td>276</td>\n",
       "      <td>18.0</td>\n",
       "      <td>357.98</td>\n",
       "    </tr>\n",
       "    <tr>\n",
       "      <th>149</th>\n",
       "      <td>0.581</td>\n",
       "      <td>5.961</td>\n",
       "      <td>2.0869</td>\n",
       "      <td>188</td>\n",
       "      <td>19.1</td>\n",
       "      <td>378.09</td>\n",
       "    </tr>\n",
       "    <tr>\n",
       "      <th>150</th>\n",
       "      <td>0.647</td>\n",
       "      <td>7.203</td>\n",
       "      <td>2.1121</td>\n",
       "      <td>264</td>\n",
       "      <td>13.0</td>\n",
       "      <td>392.80</td>\n",
       "    </tr>\n",
       "    <tr>\n",
       "      <th>151</th>\n",
       "      <td>0.538</td>\n",
       "      <td>5.813</td>\n",
       "      <td>4.0952</td>\n",
       "      <td>307</td>\n",
       "      <td>21.0</td>\n",
       "      <td>394.54</td>\n",
       "    </tr>\n",
       "  </tbody>\n",
       "</table>\n",
       "<p>152 rows × 6 columns</p>\n",
       "</div>"
      ],
      "text/plain": [
       "       nox     rm     dis  tax  ptratio       b\n",
       "0    0.472  6.849  3.1827  222     18.4  396.90\n",
       "1    0.484  6.696  5.7321  370     17.6  396.90\n",
       "2    0.448  6.030  5.6894  233     17.9  392.74\n",
       "3    0.409  5.878  6.4980  345     18.9  396.21\n",
       "4    0.770  5.362  2.1036  666     20.2  380.79\n",
       "..     ...    ...     ...  ...      ...     ...\n",
       "147  0.584  6.003  2.5403  666     20.2  331.29\n",
       "148  0.445  6.625  3.4952  276     18.0  357.98\n",
       "149  0.581  5.961  2.0869  188     19.1  378.09\n",
       "150  0.647  7.203  2.1121  264     13.0  392.80\n",
       "151  0.538  5.813  4.0952  307     21.0  394.54\n",
       "\n",
       "[152 rows x 6 columns]"
      ]
     },
     "execution_count": 68,
     "metadata": {},
     "output_type": "execute_result"
    }
   ],
   "source": [
    "\n",
    "# get the independent(X) variable for the test dataset\n",
    "X_test = df_test.iloc[:, :-1]\n",
    "X_test"
   ]
  },
  {
   "cell_type": "code",
   "execution_count": 69,
   "metadata": {},
   "outputs": [
    {
     "data": {
      "text/plain": [
       "0      28.2\n",
       "1      23.9\n",
       "2      16.6\n",
       "3      22.0\n",
       "4      20.8\n",
       "       ... \n",
       "147    19.1\n",
       "148    28.4\n",
       "149    20.5\n",
       "150    33.8\n",
       "151    14.5\n",
       "Name: medv, Length: 152, dtype: float64"
      ]
     },
     "execution_count": 69,
     "metadata": {},
     "output_type": "execute_result"
    }
   ],
   "source": [
    "# getting the dependent(y) variable for test dataset\n",
    "\n",
    "y_test = df_test.iloc[:, -1]\n",
    "y_test"
   ]
  },
  {
   "cell_type": "markdown",
   "metadata": {},
   "source": [
    "#### Variable Summary\n",
    "\n",
    "- X_train\n",
    "- y_train\n",
    "- X_test\n",
    "- y_test"
   ]
  },
  {
   "cell_type": "markdown",
   "metadata": {},
   "source": [
    "## Standardizing the Dataset\n",
    "We need to standardize our features X because they are calculated to different units and need to be brought to the same scale. Internally, gradient descent is used. The aim is to come to a global minimum, which is achieved through making all our independent(X) unit be in the same scale. This is done using the StandardScaler from sklearn"
   ]
  },
  {
   "cell_type": "code",
   "execution_count": 70,
   "metadata": {},
   "outputs": [],
   "source": [
    "from sklearn.preprocessing import StandardScaler\n",
    "\n",
    "scaler = StandardScaler()"
   ]
  },
  {
   "cell_type": "code",
   "execution_count": 71,
   "metadata": {},
   "outputs": [],
   "source": [
    "X_train = scaler.fit_transform(X_train)\n",
    "X_test = scaler.transform(X_test)"
   ]
  },
  {
   "cell_type": "markdown",
   "metadata": {},
   "source": [
    "## Model Building"
   ]
  },
  {
   "cell_type": "code",
   "execution_count": 72,
   "metadata": {},
   "outputs": [],
   "source": [
    "from sklearn.linear_model import LinearRegression\n",
    "\n",
    "model = LinearRegression()"
   ]
  },
  {
   "cell_type": "code",
   "execution_count": 73,
   "metadata": {},
   "outputs": [
    {
     "data": {
      "text/html": [
       "<style>#sk-container-id-2 {color: black;}#sk-container-id-2 pre{padding: 0;}#sk-container-id-2 div.sk-toggleable {background-color: white;}#sk-container-id-2 label.sk-toggleable__label {cursor: pointer;display: block;width: 100%;margin-bottom: 0;padding: 0.3em;box-sizing: border-box;text-align: center;}#sk-container-id-2 label.sk-toggleable__label-arrow:before {content: \"▸\";float: left;margin-right: 0.25em;color: #696969;}#sk-container-id-2 label.sk-toggleable__label-arrow:hover:before {color: black;}#sk-container-id-2 div.sk-estimator:hover label.sk-toggleable__label-arrow:before {color: black;}#sk-container-id-2 div.sk-toggleable__content {max-height: 0;max-width: 0;overflow: hidden;text-align: left;background-color: #f0f8ff;}#sk-container-id-2 div.sk-toggleable__content pre {margin: 0.2em;color: black;border-radius: 0.25em;background-color: #f0f8ff;}#sk-container-id-2 input.sk-toggleable__control:checked~div.sk-toggleable__content {max-height: 200px;max-width: 100%;overflow: auto;}#sk-container-id-2 input.sk-toggleable__control:checked~label.sk-toggleable__label-arrow:before {content: \"▾\";}#sk-container-id-2 div.sk-estimator input.sk-toggleable__control:checked~label.sk-toggleable__label {background-color: #d4ebff;}#sk-container-id-2 div.sk-label input.sk-toggleable__control:checked~label.sk-toggleable__label {background-color: #d4ebff;}#sk-container-id-2 input.sk-hidden--visually {border: 0;clip: rect(1px 1px 1px 1px);clip: rect(1px, 1px, 1px, 1px);height: 1px;margin: -1px;overflow: hidden;padding: 0;position: absolute;width: 1px;}#sk-container-id-2 div.sk-estimator {font-family: monospace;background-color: #f0f8ff;border: 1px dotted black;border-radius: 0.25em;box-sizing: border-box;margin-bottom: 0.5em;}#sk-container-id-2 div.sk-estimator:hover {background-color: #d4ebff;}#sk-container-id-2 div.sk-parallel-item::after {content: \"\";width: 100%;border-bottom: 1px solid gray;flex-grow: 1;}#sk-container-id-2 div.sk-label:hover label.sk-toggleable__label {background-color: #d4ebff;}#sk-container-id-2 div.sk-serial::before {content: \"\";position: absolute;border-left: 1px solid gray;box-sizing: border-box;top: 0;bottom: 0;left: 50%;z-index: 0;}#sk-container-id-2 div.sk-serial {display: flex;flex-direction: column;align-items: center;background-color: white;padding-right: 0.2em;padding-left: 0.2em;position: relative;}#sk-container-id-2 div.sk-item {position: relative;z-index: 1;}#sk-container-id-2 div.sk-parallel {display: flex;align-items: stretch;justify-content: center;background-color: white;position: relative;}#sk-container-id-2 div.sk-item::before, #sk-container-id-2 div.sk-parallel-item::before {content: \"\";position: absolute;border-left: 1px solid gray;box-sizing: border-box;top: 0;bottom: 0;left: 50%;z-index: -1;}#sk-container-id-2 div.sk-parallel-item {display: flex;flex-direction: column;z-index: 1;position: relative;background-color: white;}#sk-container-id-2 div.sk-parallel-item:first-child::after {align-self: flex-end;width: 50%;}#sk-container-id-2 div.sk-parallel-item:last-child::after {align-self: flex-start;width: 50%;}#sk-container-id-2 div.sk-parallel-item:only-child::after {width: 0;}#sk-container-id-2 div.sk-dashed-wrapped {border: 1px dashed gray;margin: 0 0.4em 0.5em 0.4em;box-sizing: border-box;padding-bottom: 0.4em;background-color: white;}#sk-container-id-2 div.sk-label label {font-family: monospace;font-weight: bold;display: inline-block;line-height: 1.2em;}#sk-container-id-2 div.sk-label-container {text-align: center;}#sk-container-id-2 div.sk-container {/* jupyter's `normalize.less` sets `[hidden] { display: none; }` but bootstrap.min.css set `[hidden] { display: none !important; }` so we also need the `!important` here to be able to override the default hidden behavior on the sphinx rendered scikit-learn.org. See: https://github.com/scikit-learn/scikit-learn/issues/21755 */display: inline-block !important;position: relative;}#sk-container-id-2 div.sk-text-repr-fallback {display: none;}</style><div id=\"sk-container-id-2\" class=\"sk-top-container\"><div class=\"sk-text-repr-fallback\"><pre>LinearRegression()</pre><b>In a Jupyter environment, please rerun this cell to show the HTML representation or trust the notebook. <br />On GitHub, the HTML representation is unable to render, please try loading this page with nbviewer.org.</b></div><div class=\"sk-container\" hidden><div class=\"sk-item\"><div class=\"sk-estimator sk-toggleable\"><input class=\"sk-toggleable__control sk-hidden--visually\" id=\"sk-estimator-id-2\" type=\"checkbox\" checked><label for=\"sk-estimator-id-2\" class=\"sk-toggleable__label sk-toggleable__label-arrow\">LinearRegression</label><div class=\"sk-toggleable__content\"><pre>LinearRegression()</pre></div></div></div></div></div>"
      ],
      "text/plain": [
       "LinearRegression()"
      ]
     },
     "execution_count": 73,
     "metadata": {},
     "output_type": "execute_result"
    }
   ],
   "source": [
    "# train the model(train)\n",
    "\n",
    "model.fit(X_train, y_train)"
   ]
  },
  {
   "cell_type": "code",
   "execution_count": 74,
   "metadata": {},
   "outputs": [
    {
     "data": {
      "text/plain": [
       "array([-3.22994207,  4.181922  , -1.97920352,  0.09171511, -2.73667823,\n",
       "        1.25521638])"
      ]
     },
     "execution_count": 74,
     "metadata": {},
     "output_type": "execute_result"
    }
   ],
   "source": [
    "## print the coefficients and the intercepts for independent features\n",
    "model.coef_"
   ]
  },
  {
   "cell_type": "code",
   "execution_count": 75,
   "metadata": {},
   "outputs": [
    {
     "data": {
      "text/plain": [
       "22.339830508474584"
      ]
     },
     "execution_count": 75,
     "metadata": {},
     "output_type": "execute_result"
    }
   ],
   "source": [
    "model.intercept_"
   ]
  },
  {
   "cell_type": "markdown",
   "metadata": {},
   "source": [
    "### Interpreting the Coefficient and Intercept\n",
    "\n",
    "From the result gotten from the cell for coefficient, it can be observed that with the increase in the `nox` value, there will be `-3.59432979` decrease in price(`medv`) value and so on for the rest of the features/columns.\n",
    "\n",
    "From the result gotten from the cell for intercept, it can be observed that ....."
   ]
  },
  {
   "cell_type": "code",
   "execution_count": 76,
   "metadata": {},
   "outputs": [
    {
     "data": {
      "text/plain": [
       "{'copy_X': True, 'fit_intercept': True, 'n_jobs': None, 'positive': False}"
      ]
     },
     "execution_count": 76,
     "metadata": {},
     "output_type": "execute_result"
    }
   ],
   "source": [
    "## on which parameters has the model been trained\n",
    "\n",
    "model.get_params()"
   ]
  },
  {
   "cell_type": "code",
   "execution_count": 77,
   "metadata": {},
   "outputs": [
    {
     "data": {
      "text/plain": [
       "array([29.33766124, 26.82057355, 23.30544127, 21.53770401, 10.89914053,\n",
       "       19.46842694, 26.88314295, 18.3577228 , 24.62472296, 27.06982957,\n",
       "       24.8454077 , 27.09257705, 21.71959889, 24.76291283, 22.7297234 ,\n",
       "       15.51024977, 21.84999086, 41.18543375, 28.63032783, 13.12132234,\n",
       "       19.77848707, 14.22091613, 25.29779715, 23.21495538, 27.80405638,\n",
       "       11.61353754, 17.10221714, 20.03454811, 36.36228322, 13.55903712,\n",
       "       22.26277174, 17.57136288, 40.87492685, 17.11615311, 24.54162273,\n",
       "       20.47323804, 16.79671871, 28.46985915,  7.25211757, 19.39840325,\n",
       "       26.38776225, 19.46201959, 28.22119599, 19.65343726, 20.07307705,\n",
       "       16.82951444, 37.23256057, 16.7056671 , 24.64517395, 18.13386136,\n",
       "       24.47378668, 26.00586589, 24.09621419, 26.9248726 , 13.23046221,\n",
       "       22.10737786, 15.93852624, 23.51624683, 17.92439856, 37.46835541,\n",
       "       18.03076677, 27.30199052, 15.94428299, 17.87071759, 18.91565213,\n",
       "       30.76938966, 37.9363244 , 26.55110061, 26.1662839 , 25.17781263,\n",
       "       21.94790126,  9.33902366,  9.33717634, 21.9867382 , 21.40859198,\n",
       "       18.15896519, 25.70089766, 29.36180403, 22.0342841 , 30.01497666,\n",
       "       20.45752663, 23.52573782, 35.22431408, 15.59469774, 21.54542521,\n",
       "       28.22599197, 17.6994911 , 22.62260345, 19.20129447, 19.56956968,\n",
       "       24.98786718, 43.8534359 , 19.56590668, 24.76145162, 13.66182194,\n",
       "       24.1435966 , 22.31547781, 26.90298855, 38.45272401, 21.29259013,\n",
       "       14.01470623, 18.70967388, 23.98633864, 19.59410048, 13.15589418,\n",
       "       24.43418707, 12.017081  , 27.36901662, 25.21525998, 24.79200279,\n",
       "       37.38102029, 28.49372893, 14.62330513, 32.86736633, 35.38842677,\n",
       "       33.31877109, 19.12793631, 13.76437976, 29.6703779 , 42.71865375,\n",
       "       23.67689807, 15.15424141, 27.64835685, 15.67700051, 27.60838736,\n",
       "       21.01010798, 26.8797132 , 19.70120109, 23.4569146 , 27.06986308,\n",
       "       22.43426065, 24.2373391 , 25.5247142 , 11.37989372, 26.39923493,\n",
       "       30.85437896, 16.20652053, 10.58211883, 35.57848184, 24.183362  ,\n",
       "       13.7448454 , 18.89799486, 19.67800003, 27.62628819, 28.27977149,\n",
       "       20.53381608, 23.44903161, 18.77881311, 28.43203655, 20.8244064 ,\n",
       "       34.53298281, 17.11345021])"
      ]
     },
     "execution_count": 77,
     "metadata": {},
     "output_type": "execute_result"
    }
   ],
   "source": [
    "## predict with the test dataset\n",
    "\n",
    "model_test_pred = model.predict(X_test)\n",
    "model_test_pred\n",
    "\n",
    "# the result are our prediction"
   ]
  },
  {
   "cell_type": "markdown",
   "metadata": {},
   "source": [
    "We have predictions from both the test datasets. We need to compare it against our y_test since they hold the true value for price data. This tells us how well our model is performing."
   ]
  },
  {
   "cell_type": "code",
   "execution_count": 78,
   "metadata": {},
   "outputs": [
    {
     "data": {
      "text/plain": [
       "Text(0, 0.5, 'model_test_pred')"
      ]
     },
     "execution_count": 78,
     "metadata": {},
     "output_type": "execute_result"
    },
    {
     "data": {
      "image/png": "[encoded data removed]",
      "text/plain": [
       "<Figure size 640x480 with 1 Axes>"
      ]
     },
     "metadata": {},
     "output_type": "display_data"
    }
   ],
   "source": [
    "## plotting our predictions against our dependent variable y\n",
    "\n",
    "plt.scatter(y_test, model_test_pred)\n",
    "plt.xlabel(\"y_test\")\n",
    "plt.ylabel(\"model_test_pred\")"
   ]
  },
  {
   "cell_type": "markdown",
   "metadata": {},
   "source": [
    "It is observed from the preceeding cells that our model is performing ok since we have a linear relationship between the prediction and the price value"
   ]
  },
  {
   "cell_type": "code",
   "execution_count": 79,
   "metadata": {},
   "outputs": [
    {
     "name": "stderr",
     "output_type": "stream",
     "text": [
      "c:\\Users\\DELL\\anaconda3\\envs\\boston_house_pricing\\Lib\\site-packages\\seaborn\\_oldcore.py:1119: FutureWarning: use_inf_as_na option is deprecated and will be removed in a future version. Convert inf values to NaN before operating instead.\n",
      "  with pd.option_context('mode.use_inf_as_na', True):\n"
     ]
    },
    {
     "data": {
      "text/plain": [
       "Text(0.5, 9.444444444444438, 'Errors')"
      ]
     },
     "execution_count": 79,
     "metadata": {},
     "output_type": "execute_result"
    },
    {
     "data": {
      "image/png": "[encoded data removed]",
      "text/plain": [
       "<Figure size 500x500 with 1 Axes>"
      ]
     },
     "metadata": {},
     "output_type": "display_data"
    }
   ],
   "source": [
    "# residuals for test dataset, i.e, errors\n",
    "test_residuals = y_test - model_test_pred\n",
    "\n",
    "# plot the residuals for test data\n",
    "sns.displot(test_residuals, bins = 20, kde = True)\n",
    "plt.xlabel('Errors', fontsize = 18)"
   ]
  },
  {
   "cell_type": "markdown",
   "metadata": {},
   "source": [
    "We see from the graphs that we have a normal distribution for the test dataset with some amount of outliers in our `test_residuals`. It shows that our model is doing ok."
   ]
  },
  {
   "cell_type": "markdown",
   "metadata": {},
   "source": [
    "## Model Evaluation\n",
    "\n",
    "It is important to use other performance metrics to really see how our model is doing. For the evaluation metrics using the sklearn library, we will use:\n",
    "\n",
    "- mean_squared_error\n",
    "- mean_absolute_error\n",
    "- R square\n",
    "- adjusted_r_square"
   ]
  },
  {
   "cell_type": "code",
   "execution_count": 82,
   "metadata": {},
   "outputs": [
    {
     "name": "stdout",
     "output_type": "stream",
     "text": [
      "3.6454950179298593\n",
      "24.5384425177652\n",
      "4.953629226916887\n"
     ]
    }
   ],
   "source": [
    "from sklearn.metrics import mean_squared_error\n",
    "from sklearn.metrics import mean_absolute_error\n",
    "\n",
    "print(mean_absolute_error(y_test, model_test_pred))\n",
    "print(mean_squared_error(y_test, model_test_pred))\n",
    "print(np.sqrt(mean_squared_error(y_test, model_test_pred)))"
   ]
  },
  {
   "cell_type": "markdown",
   "metadata": {},
   "source": [
    "Describe the result from the preceeding cell"
   ]
  },
  {
   "cell_type": "markdown",
   "metadata": {},
   "source": [
    "### R Square\n",
    "\n",
    "$R^2 = 1 - SSR/SST$\n",
    "\n",
    "where $R^2$ = coefficient of determination SSR = sum of squares of residuals SST = total sum of squares"
   ]
  },
  {
   "cell_type": "code",
   "execution_count": 83,
   "metadata": {},
   "outputs": [
    {
     "data": {
      "text/plain": [
       "0.7322723273710497"
      ]
     },
     "execution_count": 83,
     "metadata": {},
     "output_type": "execute_result"
    }
   ],
   "source": [
    "# r2_score for the test dataset\n",
    "from sklearn.metrics import r2_score\n",
    "\n",
    "score = r2_score(y_test, model_test_pred)\n",
    "score"
   ]
  },
  {
   "cell_type": "markdown",
   "metadata": {},
   "source": [
    "### Adjusted R Square\n",
    "\n",
    "$R^2 = 1 - [(1-R^2) * (n - 1) / (n - k - 1)]$\n",
    "\n",
    "where $R^2$ = the R^2 of the model n = the number of observations k = the number of predictor variables"
   ]
  },
  {
   "cell_type": "code",
   "execution_count": 85,
   "metadata": {},
   "outputs": [
    {
     "data": {
      "text/plain": [
       "0.7211939409174379"
      ]
     },
     "execution_count": 85,
     "metadata": {},
     "output_type": "execute_result"
    }
   ],
   "source": [
    "1 - (1 - score) * (len(y_test) - 1) / (len(y_test) - X_test.shape[1] - 1)"
   ]
  },
  {
   "cell_type": "markdown",
   "metadata": {},
   "source": [
    "The adjusted r2_score is less than the r2_score for test data which is the expected behaviour"
   ]
  },
  {
   "cell_type": "markdown",
   "metadata": {},
   "source": [
    "## New Data Prediction\n",
    "\n",
    "We want to take up a new data and predict it using our regression model to see our output. We must transform our data (i.e, standardization) before predicting"
   ]
  },
  {
   "cell_type": "code",
   "execution_count": 86,
   "metadata": {},
   "outputs": [
    {
     "data": {
      "text/plain": [
       "array([[  0.538,   6.575,   4.09 , 296.   ,  15.3  , 396.9  ]])"
      ]
     },
     "execution_count": 86,
     "metadata": {},
     "output_type": "execute_result"
    }
   ],
   "source": [
    "# to get single data point\n",
    "df.values[0].shape\n",
    "\n",
    "# training our model made it 2 dimensions so we have to reshape to get the 2 dimension. This is how we give the model for prediction\n",
    "# df.iloc[:, :-1].values[0].reshape(1, -1)\n",
    "# X = df.iloc[:, :-1].values[0].reshape(1, -1)\n",
    "X = df.iloc[:, :-1].values[0].reshape(1, -1)\n",
    "X\n"
   ]
  },
  {
   "cell_type": "code",
   "execution_count": 87,
   "metadata": {},
   "outputs": [
    {
     "name": "stderr",
     "output_type": "stream",
     "text": [
      "c:\\Users\\DELL\\anaconda3\\envs\\boston_house_pricing\\Lib\\site-packages\\sklearn\\base.py:464: UserWarning: X does not have valid feature names, but StandardScaler was fitted with feature names\n",
      "  warnings.warn(\n"
     ]
    },
    {
     "data": {
      "text/plain": [
       "array([29.02767258])"
      ]
     },
     "execution_count": 87,
     "metadata": {},
     "output_type": "execute_result"
    }
   ],
   "source": [
    "# scale before predict\n",
    "model.predict(scaler.transform(X))\n",
    "# X_train"
   ]
  },
  {
   "cell_type": "code",
   "execution_count": 88,
   "metadata": {},
   "outputs": [
    {
     "data": {
      "text/html": [
       "<div>\n",
       "<style scoped>\n",
       "    .dataframe tbody tr th:only-of-type {\n",
       "        vertical-align: middle;\n",
       "    }\n",
       "\n",
       "    .dataframe tbody tr th {\n",
       "        vertical-align: top;\n",
       "    }\n",
       "\n",
       "    .dataframe thead th {\n",
       "        text-align: right;\n",
       "    }\n",
       "</style>\n",
       "<table border=\"1\" class=\"dataframe\">\n",
       "  <thead>\n",
       "    <tr style=\"text-align: right;\">\n",
       "      <th></th>\n",
       "      <th>nox</th>\n",
       "      <th>rm</th>\n",
       "      <th>dis</th>\n",
       "      <th>tax</th>\n",
       "      <th>ptratio</th>\n",
       "      <th>b</th>\n",
       "      <th>medv</th>\n",
       "    </tr>\n",
       "  </thead>\n",
       "  <tbody>\n",
       "    <tr>\n",
       "      <th>0</th>\n",
       "      <td>0.538</td>\n",
       "      <td>6.575</td>\n",
       "      <td>4.09</td>\n",
       "      <td>296</td>\n",
       "      <td>15.3</td>\n",
       "      <td>396.9</td>\n",
       "      <td>24.0</td>\n",
       "    </tr>\n",
       "  </tbody>\n",
       "</table>\n",
       "</div>"
      ],
      "text/plain": [
       "     nox     rm   dis  tax  ptratio      b  medv\n",
       "0  0.538  6.575  4.09  296     15.3  396.9  24.0"
      ]
     },
     "execution_count": 88,
     "metadata": {},
     "output_type": "execute_result"
    }
   ],
   "source": [
    "# cross-checking the prediction\n",
    "\n",
    "df.head(1)"
   ]
  },
  {
   "cell_type": "code",
   "execution_count": 98,
   "metadata": {},
   "outputs": [
    {
     "data": {
      "text/plain": [
       "array([[  0.524 ,   6.377 ,   6.3467, 311.    ,  15.2   , 392.52  ]])"
      ]
     },
     "execution_count": 98,
     "metadata": {},
     "output_type": "execute_result"
    }
   ],
   "source": [
    "# running prediction on the 9th datapoint\n",
    "X_new = df.iloc[:, :-1].values[10].reshape(1, -1)\n",
    "X_new"
   ]
  },
  {
   "cell_type": "code",
   "execution_count": 99,
   "metadata": {},
   "outputs": [
    {
     "name": "stderr",
     "output_type": "stream",
     "text": [
      "c:\\Users\\DELL\\anaconda3\\envs\\boston_house_pricing\\Lib\\site-packages\\sklearn\\base.py:464: UserWarning: X does not have valid feature names, but StandardScaler was fitted with feature names\n",
      "  warnings.warn(\n"
     ]
    },
    {
     "data": {
      "text/plain": [
       "array([26.19634544])"
      ]
     },
     "execution_count": 99,
     "metadata": {},
     "output_type": "execute_result"
    }
   ],
   "source": [
    "# scale before predict\n",
    "model.predict(scaler.transform(X_new))"
   ]
  },
  {
   "cell_type": "code",
   "execution_count": 101,
   "metadata": {},
   "outputs": [
    {
     "data": {
      "text/html": [
       "<div>\n",
       "<style scoped>\n",
       "    .dataframe tbody tr th:only-of-type {\n",
       "        vertical-align: middle;\n",
       "    }\n",
       "\n",
       "    .dataframe tbody tr th {\n",
       "        vertical-align: top;\n",
       "    }\n",
       "\n",
       "    .dataframe thead th {\n",
       "        text-align: right;\n",
       "    }\n",
       "</style>\n",
       "<table border=\"1\" class=\"dataframe\">\n",
       "  <thead>\n",
       "    <tr style=\"text-align: right;\">\n",
       "      <th></th>\n",
       "      <th>nox</th>\n",
       "      <th>rm</th>\n",
       "      <th>dis</th>\n",
       "      <th>tax</th>\n",
       "      <th>ptratio</th>\n",
       "      <th>b</th>\n",
       "      <th>medv</th>\n",
       "    </tr>\n",
       "  </thead>\n",
       "  <tbody>\n",
       "    <tr>\n",
       "      <th>9</th>\n",
       "      <td>0.524</td>\n",
       "      <td>6.004</td>\n",
       "      <td>6.5921</td>\n",
       "      <td>311</td>\n",
       "      <td>15.2</td>\n",
       "      <td>386.71</td>\n",
       "      <td>18.9</td>\n",
       "    </tr>\n",
       "  </tbody>\n",
       "</table>\n",
       "</div>"
      ],
      "text/plain": [
       "     nox     rm     dis  tax  ptratio       b  medv\n",
       "9  0.524  6.004  6.5921  311     15.2  386.71  18.9"
      ]
     },
     "execution_count": 101,
     "metadata": {},
     "output_type": "execute_result"
    }
   ],
   "source": [
    "# checking to see if the prediction was right or close\n",
    "\n",
    "df.loc[[9]]"
   ]
  },
  {
   "cell_type": "markdown",
   "metadata": {},
   "source": [
    "`29.02767258` was predicted as price for the first value while the original price for the first data point is `24.0`. The prediction is about 5 points ahead of the real value"
   ]
  },
  {
   "cell_type": "markdown",
   "metadata": {},
   "source": [
    "## Pickling the Model File for Deployment\n",
    "\n",
    "We have to pickle the regression model"
   ]
  },
  {
   "cell_type": "code",
   "execution_count": null,
   "metadata": {},
   "outputs": [],
   "source": [
    "import pickle"
   ]
  },
  {
   "cell_type": "code",
   "execution_count": null,
   "metadata": {},
   "outputs": [],
   "source": [
    "# dump into a file\n",
    "\n",
    "pickle.dump(model, open(\"regmodel.pkl\", \"wb\"))"
   ]
  },
  {
   "cell_type": "code",
   "execution_count": null,
   "metadata": {},
   "outputs": [],
   "source": [
    "# load pickle file\n",
    "\n",
    "pickled_model = pickle.load(open(\"regmodel.pkl\", \"rb\"))"
   ]
  },
  {
   "cell_type": "code",
   "execution_count": null,
   "metadata": {},
   "outputs": [],
   "source": [
    "# use the pickled file to make prediction. it can be saved on local storage or cloud\n",
    "\n",
    "pickled_model.predict(scaler.transform(X))"
   ]
  }
 ],
 "metadata": {
  "kernelspec": {
   "display_name": "boston_house_pricing",
   "language": "python",
   "name": "python3"
  },
  "language_info": {
   "codemirror_mode": {
    "name": "ipython",
    "version": 3
   },
   "file_extension": ".py",
   "mimetype": "text/x-python",
   "name": "python",
   "nbconvert_exporter": "python",
   "pygments_lexer": "ipython3",
   "version": "3.12.0"
  }
 },
 "nbformat": 4,
 "nbformat_minor": 2
}
